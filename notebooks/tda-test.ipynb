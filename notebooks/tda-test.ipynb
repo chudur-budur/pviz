{
 "cells": [
  {
   "cell_type": "markdown",
   "metadata": {},
   "source": [
    "# Topological Data Analysis (TDA)\n",
    "\n",
    "## Notebook for testing different TDA functions from `/src/tda`\n",
    "\n",
    "This notebook tests different modules from `/src/tda`. Specifically different shape identification techniques depending on different types of abstract and geometric simplicial complexes."
   ]
  },
  {
   "cell_type": "code",
   "execution_count": null,
   "metadata": {},
   "outputs": [],
   "source": [
    "%matplotlib notebook\n",
    "%reload_ext autoreload\n",
    "%autoreload 2\n",
    "\n",
    "import sys\n",
    "import os\n",
    "\n",
    "import numpy as np\n",
    "import matplotlib.pyplot as plt\n",
    "import matplotlib.cm as cm\n",
    "from mpl_toolkits.mplot3d import Axes3D\n",
    "\n",
    "plt.rcParams.update({'figure.max_open_warning': 0})"
   ]
  },
  {
   "cell_type": "markdown",
   "metadata": {},
   "source": [
    "### Load a sample Pareto-optimal front."
   ]
  },
  {
   "cell_type": "code",
   "execution_count": null,
   "metadata": {},
   "outputs": [],
   "source": [
    "dim = '3d'\n",
    "fullpathf = \"../data/debmdk-all-nbi/{0:s}/dataf.csv\".format(dim)\n",
    "# fullpathf = \"../data/debmdk-all/{0:s}/dataf.csv\".format(dim)\n",
    "# fullpathf = \"../data/dtlz8-nbi/{0:s}/dataf.csv\".format(dim)\n",
    "# fullpathf = \"../data/dtlz8/{0:s}/dataf.csv\".format(dim)\n",
    "\n",
    "path, filenamef = os.path.split(fullpathf)\n",
    "dirs = path.split('/')\n",
    "frontname = dirs[-2]\n",
    "\n",
    "F = np.loadtxt(fullpathf, delimiter = ',')\n",
    "\n",
    "# Plot\n",
    "if dim == \"2d\":\n",
    "    fig = plt.figure()\n",
    "    ax = fig.gca()\n",
    "    ax.scatter(F[:,0], F[:,1], s = 1)\n",
    "    plt.show()\n",
    "else:\n",
    "    fig = plt.figure()\n",
    "    ax = Axes3D(fig)\n",
    "    ax.scatter(F[:,0], F[:,1], F[:,2], s = 1)\n",
    "    plt.show()"
   ]
  },
  {
   "cell_type": "markdown",
   "metadata": {},
   "source": [
    "### Project and collapse data points\n",
    "\n",
    "In some cases, it might be useful to project the data points onto M-1 dimensional simplex and then collapse one dimension. But this depends on how a user might want to visualize the data-set."
   ]
  },
  {
   "cell_type": "code",
   "execution_count": null,
   "metadata": {},
   "outputs": [],
   "source": [
    "sys.path.append('../src')\n",
    "from tda import simple_shape as ss\n",
    "\n",
    "if F.shape[1] >= 3:\n",
    "    F_ = ss.project(F)\n",
    "    P = ss.collapse(F_, d = F.shape[1]-1)\n",
    "else:\n",
    "    P = ss.project(F)\n",
    "\n",
    "# Plot\n",
    "if P.shape[1] == 2:\n",
    "    fig = plt.figure()\n",
    "    ax = fig.gca()\n",
    "    ax.scatter(P[:,0], P[:,1], s = 1)\n",
    "    plt.show()\n",
    "else:\n",
    "    fig = plt.figure()\n",
    "    ax = Axes3D(fig)\n",
    "    ax.scatter(P[:,0], P[:,1], P[:,2], s = 1)\n",
    "    plt.show()"
   ]
  },
  {
   "cell_type": "markdown",
   "metadata": {},
   "source": [
    "### Test with a simple convex-hull"
   ]
  },
  {
   "cell_type": "code",
   "execution_count": null,
   "metadata": {
    "scrolled": false
   },
   "outputs": [],
   "source": [
    "from scipy.spatial import ConvexHull\n",
    "\n",
    "N,M = F.shape\n",
    "Ch = ConvexHull(P, qhull_options = \"Qa QJ Q12\")\n",
    "\n",
    "print(Ch.simplices.shape)\n",
    "print(Ch.vertices.shape)\n",
    "\n",
    "H = P[Ch.vertices]\n",
    "\n",
    "# Plot\n",
    "K = H.shape[0] if H.shape[0] % 2 == 0 else H.shape[0]-1\n",
    "if P.shape[1] == 2:\n",
    "    fig = plt.figure()\n",
    "    ax = fig.gca()\n",
    "    ax.scatter(P[:,0], P[:,1], s = 1)\n",
    "    for i in range(0, K, 2):\n",
    "        ax.plot([H[i,0], H[i+1,0]], [H[i,1], H[i+1,1]], \\\n",
    "                 marker = 'o', color = 'red', ms = 3, lw = 1)\n",
    "    plt.show()\n",
    "else:\n",
    "    fig = plt.figure()\n",
    "    ax = Axes3D(fig)\n",
    "    ax.scatter(P[:,0], P[:,1], P[:,2], s = 1)\n",
    "    for i in range(0, K, 2):\n",
    "        ax.plot([H[i,0], H[i+1,0]], [H[i,1], H[i+1,1]], \\\n",
    "                 zs = [H[i,2], H[i+1,2]], \\\n",
    "                 marker = 'o', color = 'red', ms = 3, lw = 1)\n",
    "    plt.show()"
   ]
  },
  {
   "cell_type": "markdown",
   "metadata": {},
   "source": [
    "### Test with a simple convex-hull based depth-contour algorithm\n",
    "\n",
    "First find the depth-contours from a simpel convex-hull with projection and collapse."
   ]
  },
  {
   "cell_type": "code",
   "execution_count": null,
   "metadata": {
    "scrolled": false
   },
   "outputs": [],
   "source": [
    "sys.path.append('../src')\n",
    "from tda import simple_shape as ss\n",
    "from utils import io\n",
    "\n",
    "# test ss.get_shape_layers function\n",
    "L = ss.depth_contours(F)\n",
    "# save the layers to /tmp/test.csv\n",
    "io.savetxt(\"/tmp/test.csv\", L, fmt = '{:d}', delimiter = ',')\n",
    "# load it again\n",
    "L = io.loadtxt(\"/tmp/test.csv\", dtype = int, delimiter = ',')\n",
    "\n",
    "# plot each layer of the original data points with different colors \n",
    "X = F # P\n",
    "if X.shape[1] == 2:\n",
    "    fig = plt.figure()\n",
    "    ax = fig.gca()\n",
    "    for l in L:\n",
    "        ax.scatter(X[l,0], X[l,1], s = 1)\n",
    "    plt.show()\n",
    "else:\n",
    "    fig = plt.figure()\n",
    "    ax = Axes3D(fig)\n",
    "    for l in L:\n",
    "        ax.scatter(X[l,0], X[l,1], X[l,2], s = 1)\n",
    "    plt.show()"
   ]
  },
  {
   "cell_type": "markdown",
   "metadata": {},
   "source": [
    "### Test with a simple convex-hull based depth-contour algorithm\n",
    "\n",
    "Then find the depth-contours from a simpel convex-hull without projection and collapse."
   ]
  },
  {
   "cell_type": "code",
   "execution_count": null,
   "metadata": {
    "scrolled": false
   },
   "outputs": [],
   "source": [
    "# test ss.get_shape_layers function\n",
    "L = ss.depth_contours(F, project_collapse = False)\n",
    "# save the layers to /tmp/test.csv\n",
    "io.savetxt(\"/tmp/test-no-collapse.csv\", L, fmt = '{:d}', delimiter = ',')\n",
    "# load it again\n",
    "L = io.loadtxt(\"/tmp/test-no-collapse.csv\", dtype = int, delimiter = ',')\n",
    "\n",
    "# plot each layer of the original data points with different colors \n",
    "X = P # F\n",
    "if X.shape[1] == 2:\n",
    "    fig = plt.figure()\n",
    "    ax = fig.gca()\n",
    "    for l in L:\n",
    "        ax.scatter(X[l,0], X[l,1], s = 1)\n",
    "    plt.show()\n",
    "else:\n",
    "    fig = plt.figure()\n",
    "    ax = Axes3D(fig)\n",
    "    for l in L:\n",
    "        ax.scatter(X[l,0], X[l,1], X[l,2], s = 1)\n",
    "    plt.show()"
   ]
  },
  {
   "cell_type": "code",
   "execution_count": null,
   "metadata": {},
   "outputs": [],
   "source": []
  }
 ],
 "metadata": {
  "kernelspec": {
   "display_name": "Python 3",
   "language": "python",
   "name": "python3"
  },
  "language_info": {
   "codemirror_mode": {
    "name": "ipython",
    "version": 3
   },
   "file_extension": ".py",
   "mimetype": "text/x-python",
   "name": "python",
   "nbconvert_exporter": "python",
   "pygments_lexer": "ipython3",
   "version": "3.7.5"
  }
 },
 "nbformat": 4,
 "nbformat_minor": 4
}
