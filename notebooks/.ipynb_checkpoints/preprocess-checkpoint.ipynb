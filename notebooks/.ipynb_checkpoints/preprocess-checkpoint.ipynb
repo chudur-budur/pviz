{
 "cells": [
  {
   "cell_type": "markdown",
   "metadata": {},
   "source": [
    "## Preprocess\n",
    "\n",
    "This notebook does the preprocessing part of the visualization mechanism."
   ]
  },
  {
   "cell_type": "code",
   "execution_count": null,
   "metadata": {},
   "outputs": [],
   "source": [
    "%matplotlib notebook\n",
    "%reload_ext autoreload\n",
    "%autoreload 2\n",
    "\n",
    "import sys\n",
    "import os\n",
    "\n",
    "sys.path.append('../src')"
   ]
  },
  {
   "cell_type": "markdown",
   "metadata": {},
   "source": [
    "### List of data files to be preprocessed"
   ]
  },
  {
   "cell_type": "code",
   "execution_count": null,
   "metadata": {},
   "outputs": [],
   "source": [
    "# Do all these plots with centroid based coloring\n",
    "\n",
    "# rawfpath = \"../data/spherical/spherical-3d.out\"\n",
    "# rawfpath = \"../data/spherical/spherical-4d.out\"\n",
    "# rawfpath = \"../data/spherical/spherical-8d.out\"\n",
    "\n",
    "# rawfpath = \"../data/knee/3d/knee.out\"\n",
    "rawfpath = \"../data/knee/4d/knee.out\"\n",
    "# rawfpath = \"../data/knee/8d/knee.out\"\n",
    "\n",
    "# rawfpath = \"../data/line-surface/line-3d.out\"\n",
    "# rawfpath = \"../data/line-surface/line-4d.out\"\n",
    "# rawfpath = \"../data/line-surface/line-6d.out\" # fails\n",
    "# rawfpath = \"../data/line-surface/line-8d.out\"\n",
    "\n",
    "# Do all these plots with constraint based coloring\n",
    "\n",
    "# rawfpath = \"../data/knee-const/knee-const-3d.out\"\n",
    "# rawfpath = \"../data/knee-const/knee-const-4d.out\"\n",
    "# rawfpath = \"../data/knee-const/knee-const-8d.out\"\n",
    "\n",
    "# rawfpath = \"../data/knee-const-mod/knee-const-mod-3d.out\"\n",
    "# rawfpath = \"../data/knee-const-mod/knee-const-mod-4d.out\"\n",
    "\n",
    "# rawfpath = \"../data/isolated/isolated-3d.out\"\n",
    "# rawfpath = \"../data/isolated/isolated-4d.out\"\n",
    "# rawfpath = \"../data/isolated/isolated-5d.out\"\n",
    "# rawfpath = \"../data/isolated/isolated-6d.out\"\n",
    "# rawfpath = \"../data/isolated/isolated-7d.out\"\n",
    "# rawfpath = \"../data/isolated/isolated-8d.out\"\n",
    "\n",
    "# rawfpath = \"../data/c2dtlz2/c2dtlz2-3d.out\"\n",
    "# rawfpath = \"../data/c2dtlz2/c2dtlz2-4d.out\"\n",
    "# rawfpath = \"../data/c2dtlz2/c2dtlz2-5d.out\"\n",
    "# rawfpath = \"../data/c2dtlz2/c2dtlz2-8d.out\"\n",
    "\n",
    "# rawfpath = \"../data/c2dtlz2/c2dtlz2-c1/c2dtlz2-c1-3d.out\"\n",
    "# rawfpath = \"../data/c2dtlz2/c2dtlz2-c2/c2dtlz2-c2-3d.out\"\n",
    "# rawfpath = \"../data/c2dtlz2/c2dtlz2-c3/c2dtlz2-c3-3d.out\"\n",
    "# rawfpath = \"../data/c2dtlz2/c2dtlz2-c4/c2dtlz2-c4-3d.out\"\n",
    "\n",
    "# rawfpath = \"../data/osy/osy-3d.out\"\n",
    "# rawfpath = \"../data/osy/osy-4d.out\"\n",
    "\n",
    "# some engineering design problems\n",
    "\n",
    "# rawfpath = \"../data/carcrash/carcrash-3d.out\"\n",
    "# rawfpath = \"../data/carcrash/carcrash-c1/carcrash-c1-3d.out\"\n",
    "# rawfpath = \"../data/carcrash/carcrash-c2/carcrash-c2-3d.out\"\n",
    "\n",
    "# rawfpath = \"../data/gaa-das/gaa-das-10d.out\"\n",
    "# rawfpath = \"../data/gaa-lhs/gaa-lhs-10d.out\"\n",
    "\n",
    "# some ML data sets\n",
    "\n",
    "# rawfpath = \"../data/airofoil/airofoil-5d.out\"\n",
    "# rawfpath = \"../data/banknote/banknote-4d.out\"\n",
    "# rawfpath = \"../data/blood/blood-4d.out\" # fails\n",
    "# rawfpath = \"../data/cccp/cccp-4d.out\"\n",
    "# rawfpath = \"../data/concrete/concrete-8d.out\" # fails\n",
    "# rawfpath = \"../data/iris/iris-4d.out\" \n",
    "# rawfpath = \"../data/mammogram/mammogram-5d.out\" # fails\n",
    "# rawfpath = \"../data/wil/wil-7d.out\" # fails\n",
    "# rawfpath = \"../data/yeast/yeast-8d.out\" #  fails \n",
    "\n",
    "path, rawfname = os.path.split(rawfpath)\n",
    "frontname = rawfname.split('.')[0]\n",
    "normfname = frontname + \"-norm.csv\"\n",
    "mufname = normfname.split('.')[0] + \"-mu.csv\""
   ]
  },
  {
   "cell_type": "markdown",
   "metadata": {},
   "source": [
    "### Normalize the data points within [0.0, 1.0]"
   ]
  },
  {
   "cell_type": "code",
   "execution_count": null,
   "metadata": {
    "scrolled": false
   },
   "outputs": [],
   "source": [
    "# Normalize the data points within [0.0, 1.0]\n",
    "\n",
    "import numpy as np\n",
    "from utils import transform as tf\n",
    "\n",
    "F = np.loadtxt(rawfpath, delimiter = '\\t')\n",
    "print(F.shape)\n",
    "F_ = tf.normalize(F, lb = np.zeros(F.shape[1]), ub = np.ones(F.shape[1]))\n",
    "print(F_[0:10,:])\n",
    "\n",
    "normfile = os.path.join(path, normfname)\n",
    "print(\"Saving normalized data into {0:s} ...\".format(normfile))\n",
    "np.savetxt(normfile, F_, delimiter = ',', fmt = \"%1.4e\")"
   ]
  },
  {
   "cell_type": "markdown",
   "metadata": {},
   "source": [
    "### Find the trade-off values"
   ]
  },
  {
   "cell_type": "code",
   "execution_count": null,
   "metadata": {
    "scrolled": false
   },
   "outputs": [],
   "source": [
    "# Compute the trade-off values\n",
    "\n",
    "import numpy as np\n",
    "from visualization import knee\n",
    "\n",
    "if os.path.exists(normfile):\n",
    "    F_ = np.loadtxt(normfile, delimiter = ',')\n",
    "    epskey = frontname + '-' + str(F_.shape[1]) + 'd'\n",
    "    mu = knee.tradeoff(F_, eps = knee.params[epskey])\n",
    "    print(mu.shape)\n",
    "    print(mu[0:10])\n",
    "\n",
    "    mufile = os.path.join(path, mufname)\n",
    "    print(\"Saving tradeoff values to {0:s} ...\".format(mufile))\n",
    "    np.savetxt(mufile, mu, delimiter = ',', fmt = \"%1.4e\")\n",
    "else:\n",
    "    print(\"Error: \" + normfile + \" does not exist.\")"
   ]
  },
  {
   "cell_type": "code",
   "execution_count": null,
   "metadata": {
    "scrolled": true
   },
   "outputs": [],
   "source": [
    "# This part does the peeler.py operation\n",
    "\n",
    "mode = \"default\"\n",
    "# mode = \"no-project\" # use it for line-surface\n",
    "\n",
    "normfpath = os.path.join(path, normfname)\n",
    "points = fmt.load(normfpath)\n",
    "\n",
    "m = len(points[0])\n",
    "print(\"Peeling data point cloud in {0:s} mode ...\".format(mode))\n",
    "if mode == \"default\":\n",
    "    # the defualt mode will project the points \n",
    "    # on a simplex on the first quadrant\n",
    "    ppoints = plr.project(points)\n",
    "    cpoints = plr.collapse(ppoints, dim = m - 1)\n",
    "    boundaries = plr.peel(cpoints)\n",
    "elif mode == \"no-project\":\n",
    "    boundaries = plr.peel(points)\n",
    "fmt.cat(boundaries, dtype = 'int')\n",
    "\n",
    "layerfpath = os.path.join(path, normfname.split('.')[0] + \"-layers.out\")\n",
    "print(\"Saving {0:d} layers into {1:s} ...\".format(len(boundaries), layerfpath))\n",
    "fmt.save(boundaries, layerfpath, dtype = 'int')"
   ]
  },
  {
   "cell_type": "code",
   "execution_count": null,
   "metadata": {},
   "outputs": [],
   "source": [
    "# This part does the palettizer.py operation\n",
    "\n",
    "n_layers = 3\n",
    "mode = \"invsc\"\n",
    "# mode = \"invrv\"\n",
    "# mode = \"rv\"\n",
    "# mode = \"sc\"\n",
    "\n",
    "normfpath = os.path.join(path, normfname)\n",
    "points = fmt.load(normfpath)\n",
    "\n",
    "layerfile = normfname.split('.')[0] + \"-layers.out\"\n",
    "layers = fmt.load(os.path.join(path, layerfile), dtype = 'int')\n",
    "\n",
    "print(\"Computing palette coordinates with {0:d} layers in {1:s} mode ...\".format(n_layers, mode))\n",
    "if mode == \"invsc\":\n",
    "    palette_coords = pltz.palettize_sc(points, layers, n_layers = n_layers, inverted = True)\n",
    "    palettefpath = os.path.join(path, normfname.split('.')[0] + \"-palette-invsc.out\")\n",
    "elif mode == \"invrv\":\n",
    "    palette_coords = pltz.palettize_rv(points, layers, n_layers = n_layers, inverted = True)\n",
    "    palettefpath = os.path.join(path, normfname.split('.')[0] + \"-palette-invrv.out\")\n",
    "elif mode == \"rv\":\n",
    "    palette_coords = pltz.palettize_rv(points, layers, n_layers = n_layers)\n",
    "    palettefpath = os.path.join(path, normfname.split('.')[0] + \"-palette-rv.out\")\n",
    "elif mode == \"sc\":\n",
    "    palette_coords = pltz.palettize_sc(points, layers, n_layers = n_layers)\n",
    "    palettefpath = os.path.join(path, normfname.split('.')[0] + \"-palette-sc.out\")\n",
    "else:\n",
    "    print(\"Error: unknown mode \\'{0:s}\\'\\n\".format(mode))\n",
    "    sys.exit(1)\n",
    "\n",
    "print(\"Saving palette coordinates into {0:s} ...\".format(palettefpath))\n",
    "pltz.save_palette(palette_coords, palettefpath)"
   ]
  },
  {
   "cell_type": "code",
   "execution_count": null,
   "metadata": {},
   "outputs": [],
   "source": []
  }
 ],
 "metadata": {
  "kernelspec": {
   "display_name": "Python 3",
   "language": "python",
   "name": "python3"
  },
  "language_info": {
   "codemirror_mode": {
    "name": "ipython",
    "version": 3
   },
   "file_extension": ".py",
   "mimetype": "text/x-python",
   "name": "python",
   "nbconvert_exporter": "python",
   "pygments_lexer": "ipython3",
   "version": "3.7.5"
  }
 },
 "nbformat": 4,
 "nbformat_minor": 2
}
