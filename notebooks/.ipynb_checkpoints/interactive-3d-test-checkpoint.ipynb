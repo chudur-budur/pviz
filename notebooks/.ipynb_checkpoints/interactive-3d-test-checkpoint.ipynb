{
 "cells": [
  {
   "cell_type": "code",
   "execution_count": 3,
   "metadata": {},
   "outputs": [
    {
     "data": {
      "application/vnd.jupyter.widget-view+json": {
       "model_id": "685d3c15968d45ed8a8574ad291cd02d",
       "version_major": 2,
       "version_minor": 0
      },
      "text/plain": [
       "VBox(children=(Figure(camera=PerspectiveCamera(fov=46.0, position=(0.0, 0.0, 2.0), quaternion=(0.0, 0.0, 0.0, …"
      ]
     },
     "metadata": {},
     "output_type": "display_data"
    }
   ],
   "source": [
    "%matplotlib notebook\n",
    "%reload_ext autoreload\n",
    "%autoreload 2\n",
    "\n",
    "import sys\n",
    "import os\n",
    "import numpy as np\n",
    "import matplotlib.pyplot as plt\n",
    "import ipyvolume as ipv\n",
    "\n",
    "sys.path.append('../src')\n",
    "sys.path.append('../src/paretoviz')\n",
    "from paretoviz import plotting as pplt\n",
    "from paretoviz import decorator as dcor\n",
    "from paretoviz.utils import fmt\n",
    "from paretoviz.utils import vectorops as vops\n",
    "\n",
    "x, y, z = np.random.random((3, 100))\n",
    "\n",
    "ipv.figure()\n",
    "\n",
    "ipv.style.axes_off()\n",
    "ipv.style.box_off()\n",
    "\n",
    "ipv.scatter(x, y, z, size = 5, marker = \"sphere\")\n",
    "\n",
    "ipv.show()"
   ]
  },
  {
   "cell_type": "code",
   "execution_count": 5,
   "metadata": {},
   "outputs": [
    {
     "ename": "FileNotFoundError",
     "evalue": "[Errno 2] No such file or directory: '../data/knee/knee-3d-norm.out'",
     "output_type": "error",
     "traceback": [
      "\u001b[0;31m---------------------------------------------------------------------------\u001b[0m",
      "\u001b[0;31mFileNotFoundError\u001b[0m                         Traceback (most recent call last)",
      "\u001b[0;32m<ipython-input-5-6de2135f163e>\u001b[0m in \u001b[0;36m<module>\u001b[0;34m\u001b[0m\n\u001b[1;32m     10\u001b[0m \u001b[0;34m\u001b[0m\u001b[0m\n\u001b[1;32m     11\u001b[0m \u001b[0;31m# load the normalized points\u001b[0m\u001b[0;34m\u001b[0m\u001b[0;34m\u001b[0m\u001b[0;34m\u001b[0m\u001b[0m\n\u001b[0;32m---> 12\u001b[0;31m \u001b[0mpoints\u001b[0m \u001b[0;34m=\u001b[0m \u001b[0mfmt\u001b[0m\u001b[0;34m.\u001b[0m\u001b[0mload\u001b[0m\u001b[0;34m(\u001b[0m\u001b[0mos\u001b[0m\u001b[0;34m.\u001b[0m\u001b[0mpath\u001b[0m\u001b[0;34m.\u001b[0m\u001b[0mjoin\u001b[0m\u001b[0;34m(\u001b[0m\u001b[0mpath\u001b[0m\u001b[0;34m,\u001b[0m \u001b[0mprefix\u001b[0m \u001b[0;34m+\u001b[0m \u001b[0;34m\"-norm.out\"\u001b[0m\u001b[0;34m)\u001b[0m\u001b[0;34m)\u001b[0m\u001b[0;34m\u001b[0m\u001b[0;34m\u001b[0m\u001b[0m\n\u001b[0m\u001b[1;32m     13\u001b[0m \u001b[0;34m\u001b[0m\u001b[0m\n\u001b[1;32m     14\u001b[0m \u001b[0;31m# load the CV values\u001b[0m\u001b[0;34m\u001b[0m\u001b[0;34m\u001b[0m\u001b[0;34m\u001b[0m\u001b[0m\n",
      "\u001b[0;32m~/data/research/visualization/src/paretoviz/utils/fmt.py\u001b[0m in \u001b[0;36mload\u001b[0;34m(path, sep, dtype)\u001b[0m\n\u001b[1;32m     41\u001b[0m     \u001b[0mLoad\u001b[0m \u001b[0mdata\u001b[0m \u001b[0;32mfrom\u001b[0m \u001b[0mfile\u001b[0m\u001b[0;34m.\u001b[0m\u001b[0;34m\u001b[0m\u001b[0;34m\u001b[0m\u001b[0m\n\u001b[1;32m     42\u001b[0m     \"\"\"\n\u001b[0;32m---> 43\u001b[0;31m     \u001b[0mfp\u001b[0m \u001b[0;34m=\u001b[0m \u001b[0mopen\u001b[0m\u001b[0;34m(\u001b[0m\u001b[0mpath\u001b[0m\u001b[0;34m,\u001b[0m \u001b[0;34m'r'\u001b[0m\u001b[0;34m)\u001b[0m\u001b[0;34m\u001b[0m\u001b[0;34m\u001b[0m\u001b[0m\n\u001b[0m\u001b[1;32m     44\u001b[0m     \u001b[0mdata\u001b[0m \u001b[0;34m=\u001b[0m \u001b[0;34m[\u001b[0m\u001b[0;34m]\u001b[0m\u001b[0;34m\u001b[0m\u001b[0;34m\u001b[0m\u001b[0m\n\u001b[1;32m     45\u001b[0m     \u001b[0;32mif\u001b[0m \u001b[0mdtype\u001b[0m \u001b[0;34m==\u001b[0m \u001b[0;34m'float'\u001b[0m\u001b[0;34m:\u001b[0m\u001b[0;34m\u001b[0m\u001b[0;34m\u001b[0m\u001b[0m\n",
      "\u001b[0;31mFileNotFoundError\u001b[0m: [Errno 2] No such file or directory: '../data/knee/knee-3d-norm.out'"
     ]
    }
   ],
   "source": [
    "rawfpath = \"../data.bak/knee/knee-3d.out\"\n",
    "\n",
    "# get the path and filename from the rawfpath\n",
    "path, rawfile = os.path.split(rawfpath)\n",
    "# get the prefix\n",
    "prefix = rawfile.split('.')[0]\n",
    "\n",
    "# do visualization based on distance from the centroid?\n",
    "docentroid = False\n",
    "\n",
    "# load the normalized points\n",
    "points = fmt.load(os.path.join(path, prefix + \"-norm.out\"))\n",
    "\n",
    "# load the CV values\n",
    "cvfpath = os.path.join(path, prefix + \"-cv.out\")\n",
    "if not docentroid and os.path.exists(cvfpath):\n",
    "    cv = [v[0] if len(v) == 1 else v for v in fmt.load(cvfpath)]\n",
    "    [low, up] = vops.get_bound(cv)\n",
    "    cv = vops.normalize(cv, low, up)\n",
    "    color = dcor.recolor_by_cv(cv)\n",
    "else:\n",
    "    color = dcor.recolor_by_centroid(points)\n",
    "\n",
    "# load the normalized trade-off values\n",
    "mufpath = os.path.join(path, prefix + \"-norm-mu.out\")\n",
    "knee_idx = None\n",
    "if os.path.exists(mufpath):\n",
    "    mu = [v[0] if len(v) == 1 else v for v in fmt.load(mufpath)]\n",
    "    # resize the points w.r.t. trade-offs\n",
    "    size = dcor.rescale_by_tradeoff(mu)\n",
    "    (color, knee_idx) = dcor.recolor_by_tradeoff(size, color)\n",
    "\n",
    "# load the class labels\n",
    "classfpath = os.path.join(path, prefix + \"-class.out\")\n",
    "if os.path.exists(classfpath):\n",
    "    labels = [v[0] if len(v) == 1 else v for v in \\\n",
    "            fmt.load(classfpath, dtype = dcor.dtypes[prefix])]\n",
    "    color = dcor.recolor_by_labels(labels, dtype = dcor.dtypes[prefix])\n",
    "    size = [5.0 for _ in range(len(points))]\n",
    "\n",
    "# alpha values\n",
    "alpha = [0.2, 0.8] # alpha for plots with knee\n",
    "# alpha = [1.0, 1.0] # alpha for general case\n",
    "\n",
    "palette_coords = fmt.load(os.path.join(path, prefix + \"-norm-palette-invsc.out\"))\n",
    "print(palette_coords[0])\n",
    "\n",
    "data = np.array(palette_coords)\n",
    "print(data[0,:])\n",
    "print(data[:,0])\n",
    "\n",
    "size = [s*0.075 for s in size]\n",
    "\n",
    "ipv.figure()\n",
    "\n",
    "ipv.style.axes_off()\n",
    "ipv.style.box_off()\n",
    "ipv.selector_default()\n",
    "\n",
    "ipv.scatter(data[:,0], data[:,1], data[:,2], size = size, color = color, alpha = 0.01, marker = \"sphere\")\n",
    "\n",
    "ipv.show()"
   ]
  },
  {
   "cell_type": "code",
   "execution_count": null,
   "metadata": {},
   "outputs": [],
   "source": []
  },
  {
   "cell_type": "code",
   "execution_count": null,
   "metadata": {},
   "outputs": [],
   "source": []
  }
 ],
 "metadata": {
  "kernelspec": {
   "display_name": "Python 3",
   "language": "python",
   "name": "python3"
  },
  "language_info": {
   "codemirror_mode": {
    "name": "ipython",
    "version": 3
   },
   "file_extension": ".py",
   "mimetype": "text/x-python",
   "name": "python",
   "nbconvert_exporter": "python",
   "pygments_lexer": "ipython3",
   "version": "3.7.5"
  }
 },
 "nbformat": 4,
 "nbformat_minor": 2
}
