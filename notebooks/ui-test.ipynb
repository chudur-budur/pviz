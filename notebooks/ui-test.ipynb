{
 "cells": [
  {
   "cell_type": "code",
   "execution_count": 1,
   "metadata": {},
   "outputs": [],
   "source": [
    "import numpy as np\n",
    "import matplotlib.pyplot as plt\n",
    "import itertools\n",
    "import copy\n",
    "import networkx as nx\n",
    "\n",
    "import matplotlib as mpl\n",
    "from matplotlib import cm\n",
    "from matplotlib.patches import Circle, Wedge, Polygon\n",
    "from scipy.spatial.distance import cdist\n",
    "\n",
    "from ipywidgets import interactive"
   ]
  },
  {
   "cell_type": "code",
   "execution_count": 3,
   "metadata": {},
   "outputs": [
    {
     "data": {
      "text/plain": [
       "<matplotlib.collections.PathCollection at 0x116abc910>"
      ]
     },
     "execution_count": 3,
     "metadata": {},
     "output_type": "execute_result"
    },
    {
     "data": {
      "image/png": "[encoded data removed]",
      "text/plain": [
       "<Figure size 432x288 with 1 Axes>"
      ]
     },
     "metadata": {
      "needs_background": "light"
     },
     "output_type": "display_data"
    }
   ],
   "source": [
    "N = 100\n",
    "\n",
    "r = np.random.uniform(-0.2, 0.2, N) # radious\n",
    "theta = np.random.uniform(-np.pi, np.pi, N) # angles\n",
    "\n",
    "x = (1+r)*np.cos(theta) # x-corodinate\n",
    "y = (1+r)*np.sin(theta) # y-coordinate\n",
    "\n",
    "X = np.column_stack((x,y)) # data set\n",
    "\n",
    "plt.scatter(X[:,0], X[:,1])"
   ]
  },
  {
   "cell_type": "code",
   "execution_count": 4,
   "metadata": {},
   "outputs": [],
   "source": [
    "distance_matrix = cdist(X,X)"
   ]
  },
  {
   "cell_type": "code",
   "execution_count": 5,
   "metadata": {},
   "outputs": [],
   "source": [
    "# dist_m = distance matrix\n",
    "# n = number of landmarks\n",
    "def minmax(dist_m, n):\n",
    "    L = [np.random.randint(0,len(X))]\n",
    "    \n",
    "    dist_to_L = dist_m[ L[-1] ,:]\n",
    "    \n",
    "    for i in range(n-1):\n",
    "        ind = np.argmax( dist_to_L )\n",
    "        L.append(ind)\n",
    "        \n",
    "        dist_to_L = np.minimum(dist_to_L, dist_m[L[-1], :])\n",
    "\n",
    "    return L, np.max(dist_to_L) + 0.001"
   ]
  },
  {
   "cell_type": "code",
   "execution_count": 10,
   "metadata": {},
   "outputs": [
    {
     "name": "stdout",
     "output_type": "stream",
     "text": [
      "Covering radius =  0.45061849279849936\n"
     ]
    },
    {
     "data": {
      "text/plain": [
       "<matplotlib.collections.PathCollection at 0x124ba5c90>"
      ]
     },
     "execution_count": 10,
     "metadata": {},
     "output_type": "execute_result"
    },
    {
     "data": {
      "image/png": "[encoded data removed]",
      "text/plain": [
       "<Figure size 432x288 with 1 Axes>"
      ]
     },
     "metadata": {
      "needs_background": "light"
     },
     "output_type": "display_data"
    }
   ],
   "source": [
    "#landamrks contains the indices of the landmark points\n",
    "#c_r is the minimal covering radious for the landmark set computed.\n",
    "landmarks, c_r = minmax(distance_matrix, 10) \n",
    "\n",
    "print('Covering radius = ', c_r)\n",
    "\n",
    "# plot\n",
    "plt.scatter(X[:,0], X[:,1])\n",
    "plt.scatter(X[landmarks,0], X[landmarks,1])"
   ]
  },
  {
   "cell_type": "code",
   "execution_count": 11,
   "metadata": {},
   "outputs": [],
   "source": [
    "# Rips complex\n",
    "def rips_complex(dist_m, alpha):\n",
    "    \n",
    "    D = copy.deepcopy(dist_m)\n",
    "    \n",
    "    R = {}\n",
    "    # 0-simplices\n",
    "    R['0'] = np.arange(0,len(dist_m))\n",
    "    \n",
    "    D[D > alpha] = 0\n",
    "\n",
    "    non_zero = np.nonzero(D)\n",
    "    # 1-simplices\n",
    "    R['1'] = []\n",
    "    for j in itertools.combinations( np.arange(len(dist_m)), 2 ):\n",
    "        ind = np.array(j)\n",
    "        if np.max(dist_m[ind,:][:,ind]) < alpha:\n",
    "            R['1'].append(ind)\n",
    "    \n",
    "    # 2-simplices\n",
    "    R['2'] = []\n",
    "    for j in itertools.combinations( np.arange(len(dist_m)), 3 ):\n",
    "        ind = np.array(j)\n",
    "        if np.max(dist_m[ind,:][:,ind]) < alpha:\n",
    "            R['2'].append(ind)\n",
    "\n",
    "    return R\n",
    "\n",
    "# Nerve-like complex\n",
    "def intersection(dist_m, land_ind, epsilon):\n",
    "    \n",
    "    distance_to_landmarks = dist_m[land_ind,:]\n",
    "    \n",
    "    N = {}\n",
    "    N['0'] = np.arange(0,len(distance_to_landmarks))\n",
    "    \n",
    "    adj_points = np.zeros((len(N['0']), len(N['0'])))\n",
    "    N['1'] = []\n",
    "    for j in itertools.combinations( np.arange(len(distance_to_landmarks)), 2 ):\n",
    "        ind = np.array(j)\n",
    "        in_ball = distance_to_landmarks[ ind ,:] < epsilon\n",
    "        if np.logical_and(in_ball[0,:], in_ball[1,:]).any():\n",
    "            N['1'].append(ind)\n",
    "            adj_points[ind[0],ind[1]] = np.sum(np.logical_and(in_ball[0,:], in_ball[1,:]))\n",
    "            adj_points[ind[1],ind[0]] = adj_points[ind[0],ind[1]]\n",
    "            \n",
    "    N['2'] = []\n",
    "    for j in itertools.combinations( np.arange(len(distance_to_landmarks)), 3 ):\n",
    "        ind = np.array(j)\n",
    "        in_ball = distance_to_landmarks[ ind ,:] < epsilon\n",
    "        if np.logical_and(np.logical_and(in_ball[0,:], in_ball[1,:]),in_ball[2,:]).any():\n",
    "            N['2'].append(ind)\n",
    "            \n",
    "    return adj_points, N"
   ]
  },
  {
   "cell_type": "code",
   "execution_count": 12,
   "metadata": {},
   "outputs": [
    {
     "data": {
      "application/vnd.jupyter.widget-view+json": {
       "model_id": "6e643995469940d8b80d1e973df853a8",
       "version_major": 2,
       "version_minor": 0
      },
      "text/plain": [
       "interactive(children=(FloatSlider(value=1.0, description='alpha', max=2.0, step=0.05), Output()), _dom_classes…"
      ]
     },
     "metadata": {},
     "output_type": "display_data"
    }
   ],
   "source": [
    "# This function generates the slider visualization.\n",
    "def interactive_plot(alpha):\n",
    "    landmark_set = X[landmarks,:]\n",
    "    \n",
    "    R_a = rips_complex(distance_matrix[landmarks,:][:,landmarks], alpha)\n",
    "    \n",
    "    w_by_intersection, N = intersection(distance_matrix, landmarks, alpha)\n",
    "    \n",
    "    fig, ax = plt.subplots(2,2, figsize=(30,30))\n",
    "    \n",
    "    ax = ax.flatten()\n",
    "    \n",
    "    ax[2].scatter(landmark_set[:,0], landmark_set[:,1], c='black')\n",
    "    ax[2].set_title('Nerve complex')\n",
    "    for edge in N['1']:\n",
    "        ax[2].plot(landmark_set[edge,0], landmark_set[edge,1], c='blue')\n",
    "\n",
    "    for face in N['2']:\n",
    "        pol = Polygon(landmark_set[face,:], closed=True, color='cyan')\n",
    "        ax[2].add_patch(pol)\n",
    "    \n",
    "    ax[3].scatter(landmark_set[:,0], landmark_set[:,1], c='black')\n",
    "    ax[3].set_title('Rips complex')\n",
    "    for edge in R_a['1']:\n",
    "        ax[3].plot(landmark_set[edge,0], landmark_set[edge,1], c='blue')\n",
    "\n",
    "    for face in R_a['2']:\n",
    "        pol = Polygon(landmark_set[face,:], closed=True, color='cyan')\n",
    "        ax[3].add_patch(pol)\n",
    "\n",
    "    ax[0].scatter(X[:,0], X[:,1], c='black')\n",
    "    ax[0].scatter(landmark_set[:,0], landmark_set[:,1], c='red')\n",
    "    ax[0].set_ylim(-1-alpha,1+alpha)\n",
    "    ax[0].set_xlim(-1-alpha,1+alpha)\n",
    "    ax[0].set_title('Nerve cover')\n",
    "    \n",
    "    for point in range(len(landmarks)):\n",
    "        cir = Circle((landmark_set[point,0], landmark_set[point,1]), alpha, color=(1,0,0,0.2))\n",
    "        ax[0].add_patch(cir)\n",
    "        \n",
    "    ax[1].scatter(X[:,0], X[:,1], c='black')\n",
    "    ax[1].scatter(landmark_set[:,0], landmark_set[:,1], c='red')\n",
    "    ax[1].set_ylim(-1-alpha,1+alpha)\n",
    "    ax[1].set_xlim(-1-alpha,1+alpha)\n",
    "    ax[1].set_title('Rips cover')\n",
    "    \n",
    "    for point in range(len(landmarks)):\n",
    "        cir = Circle((landmark_set[point,0], landmark_set[point,1]), alpha/2, color=(1,0,0,0.2))\n",
    "        ax[1].add_patch(cir)\n",
    "        \n",
    "inter = interactive(interactive_plot, alpha=(0,2,0.05))\n",
    "output = inter.children[-1]\n",
    "inter"
   ]
  },
  {
   "cell_type": "code",
   "execution_count": null,
   "metadata": {},
   "outputs": [],
   "source": []
  }
 ],
 "metadata": {
  "kernelspec": {
   "display_name": "Python 3",
   "language": "python",
   "name": "python3"
  },
  "language_info": {
   "codemirror_mode": {
    "name": "ipython",
    "version": 3
   },
   "file_extension": ".py",
   "mimetype": "text/x-python",
   "name": "python",
   "nbconvert_exporter": "python",
   "pygments_lexer": "ipython3",
   "version": "3.7.5"
  }
 },
 "nbformat": 4,
 "nbformat_minor": 2
}
