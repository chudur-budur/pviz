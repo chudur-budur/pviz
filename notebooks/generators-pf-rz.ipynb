{
 "cells": [
  {
   "cell_type": "markdown",
   "metadata": {},
   "source": [
    "# PF Generators (Equidistant points, Risez Energy Method)\n",
    "\n",
    "## Notebook for generating different Pareto-optimal data points for visualization\n",
    "\n",
    "This notebook can be used to generate different Pareto-optimal data points for visualiation. The points generated in this notebook are computed from the subproblem decomposition weights used in Normal Boundary Intersection (NBI) method [[1]](#1). Currently this notebook implements following Pareto-optimal front (i.e. surface or point-clouds) through the `generators` module.\n",
    "\n",
    "- DTLZ2 ($m$-Sphere) Problem\n",
    "- DEBMDK (Knee) Problem\n",
    "- CDEBMDK (Constrained Knee) Problem\n",
    "- C0-DTLZ2 (A split $m$-sphere with a small isolated cluster at $f_m$-axis)\n",
    "- C2-DTLZ2 Problem\n",
    "- DTLZ8 Problem (A 3-dimensional line and an $m$-dimensional hypersurface)\n",
    "\n",
    "<a id=\"1\">[1]</a> \n",
    "I. Das and J. E. Dennis, \"Normal-Boundary Intersection: A New Method for Generating the Pareto Surface in Nonlinear Multicriteria Optimization Problems,\" SIAM Journal on Optimization, vol. 8, (3), pp. 631-27, 1998. [[pdf]](https://pdfs.semanticscholar.org/bd2d/4ce70e89e338bf06d5eac25dd366aae76225.pdf)"
   ]
  },
  {
   "cell_type": "code",
   "execution_count": null,
   "metadata": {},
   "outputs": [],
   "source": [
    "%matplotlib inline\n",
    "%reload_ext autoreload\n",
    "%autoreload 2\n",
    "\n",
    "import sys\n",
    "import os\n",
    "\n",
    "import numpy as np\n",
    "import matplotlib.pyplot as plt\n",
    "import matplotlib.cm as cm\n",
    "from mpl_toolkits.mplot3d import Axes3D\n",
    "\n",
    "sys.path.append('../')\n",
    "from vis.utils import transform as tr\n",
    "\n",
    "plt.rcParams.update({'figure.max_open_warning': 0})"
   ]
  },
  {
   "cell_type": "markdown",
   "metadata": {},
   "source": [
    "### Generate Pareto-optimal front for DEBMDK"
   ]
  },
  {
   "cell_type": "code",
   "execution_count": null,
   "metadata": {
    "scrolled": false
   },
   "outputs": [],
   "source": [
    "from vis.generators import debmdk\n",
    "\n",
    "dims = {\"2d\": 1000, \"3d\": 1500, '4d': 2500, '8d': 4100}\n",
    "\n",
    "for dim in dims:\n",
    "    # Open all files\n",
    "    fullpathf = \"../data/debmdk-rz/{0:s}/dataf.csv\".format(dim)\n",
    "    path, filenamef = os.path.split(fullpathf)\n",
    "    dirs = path.split('/')\n",
    "    frontname = dirs[-2]\n",
    "    os.makedirs(path, exist_ok=True)\n",
    "    filenamex = filenamef.split('.')[0][0:-1] + 'x.csv'\n",
    "    fullpathx = os.path.join(path, filenamex)\n",
    "    print(path, filenamef, filenamex, frontname)\n",
    "\n",
    "    np.random.seed(123456)\n",
    "    r, n, m = 1, dims[dim], int(dim[0])\n",
    "    F, X = debmdk.surface(r=r, n=n, m=m, mode='rz') # uniform\n",
    "    print(\"F.shape:\", F.shape)\n",
    "    print(\"X.shape:\", X.shape)\n",
    "    \n",
    "    Ip = tr.pfindices(F)\n",
    "    F = F[Ip]\n",
    "    X = X[Ip]\n",
    "    print(\"F.shape:\", F.shape)\n",
    "    print(\"X.shape:\", X.shape)\n",
    "\n",
    "    print(F[0:3,:])\n",
    "    print(X[0:3,:])\n",
    "    \n",
    "    # Just to make sure if we can get correct F from X\n",
    "    F_ = np.zeros(F.shape)\n",
    "    for i in range(m):\n",
    "        if i < m-1:\n",
    "            F_[:,i] = np.prod(np.sin(X[:,0:i] * (np.pi / 2)), axis=1) \\\n",
    "                    * np.cos(X[:,i] * (np.pi / 2))\n",
    "        else:\n",
    "            F_[:,i] = np.prod(np.sin(X[:,0:i-1] * (np.pi / 2)), axis=1) \\\n",
    "                    * np.sin(X[:,i-1] * (np.pi / 2))\n",
    "    F_ = F_[:,::-1]\n",
    "    F_ = r * F_\n",
    "\n",
    "    # Plot\n",
    "    if dim == \"2d\":\n",
    "        fig = plt.figure(figsize=(9, 3))\n",
    "        ax1 = fig.add_subplot(1, 3, 1)\n",
    "        ax1.scatter(F[:,0], F[:,1], s=1)\n",
    "        ax2 = fig.add_subplot(1, 3, 2)\n",
    "        ax2.plot(X[:,0], lw=1.0)\n",
    "        ax3 = fig.add_subplot(1, 3, 3)\n",
    "        ax3.scatter(F_[:,0], F_[:,1], s=1)\n",
    "        plt.show()\n",
    "    else:\n",
    "        fig = plt.figure(figsize=(9, 3))\n",
    "        ax1 = fig.add_subplot(1, 3, 1, projection='3d')\n",
    "        ax1.scatter(F[:,0], F[:,1], F[:,2], s=1)\n",
    "        ax2 = fig.add_subplot(1, 3, 2)\n",
    "        ax2.scatter(X[:,0], X[:,1], s=1)\n",
    "        ax3 = fig.add_subplot(1, 3, 3, projection='3d')\n",
    "        ax3.scatter(F_[:,0], F_[:,1], F_[:,2], s=1)\n",
    "        plt.show()\n",
    "\n",
    "    np.savetxt(fullpathf, F, delimiter=',', fmt=\"%1.4e\")\n",
    "    np.savetxt(fullpathx, X, delimiter=',', fmt=\"%1.4e\")"
   ]
  },
  {
   "cell_type": "code",
   "execution_count": null,
   "metadata": {},
   "outputs": [],
   "source": []
  }
 ],
 "metadata": {
  "kernelspec": {
   "display_name": "Python 3",
   "language": "python",
   "name": "python3"
  },
  "language_info": {
   "codemirror_mode": {
    "name": "ipython",
    "version": 3
   },
   "file_extension": ".py",
   "mimetype": "text/x-python",
   "name": "python",
   "nbconvert_exporter": "python",
   "pygments_lexer": "ipython3",
   "version": "3.7.5"
  }
 },
 "nbformat": 4,
 "nbformat_minor": 4
}
