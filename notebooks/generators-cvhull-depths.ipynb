{
 "cells": [
  {
   "cell_type": "markdown",
   "metadata": {},
   "source": [
    "## Depth Contours\n",
    "\n",
    "### Generate depth-contours of all the Pareto-optimal data sets.\n",
    "\n",
    "This notebook can be used to generate tradeoff values from all the Pareto-optimal data point files hard-coded in the dictionary `pfs`. Currently this notebook processes these Pareto-optimal fronts.\n",
    "\n",
    "- DTLZ2 ($m$-Sphere) Problem\n",
    "- DEBMDK (Knee) Problem\n",
    "- CDEBMDK (Constrained Knee) Problem\n",
    "- C0-DTLZ2 (A split $𝑚$-sphere with a small isolated cluster at $f_m$-axis)\n",
    "- C2-DTLZ2 Problem\n",
    "- DTLZ8 Problem (A 3-dimensional line and an  𝑚 -dimensional hypersurface)\n",
    "- GAA Problem (A 10-objective and 18-constraint general aviation design problem)"
   ]
  },
  {
   "cell_type": "code",
   "execution_count": 1,
   "metadata": {},
   "outputs": [],
   "source": [
    "%reload_ext autoreload\n",
    "%autoreload 2\n",
    "\n",
    "import sys\n",
    "import os\n",
    "\n",
    "import numpy as np\n",
    "import matplotlib.pyplot as plt\n",
    "import matplotlib.cm as cm\n",
    "from mpl_toolkits.mplot3d import Axes3D\n",
    "\n",
    "plt.rcParams.update({'figure.max_open_warning': 0})"
   ]
  },
  {
   "cell_type": "markdown",
   "metadata": {},
   "source": [
    "### Generate and save the depth contours\n",
    "\n",
    "In this case we are computing the depth-contours from the convex-hulls. So we are using the `tda.simple_shape` module."
   ]
  },
  {
   "cell_type": "code",
   "execution_count": null,
   "metadata": {},
   "outputs": [
    {
     "name": "stdout",
     "output_type": "stream",
     "text": [
      "../data/gaa/10d/dataf.csv (3112, 10) ['..', 'data', 'gaa', '10d'] gaa\n",
      "Projecting on a simplex and collapsing.\n",
      "Computing depth contour 0 ...\n"
     ]
    }
   ],
   "source": [
    "sys.path.append('../')\n",
    "from vis.tda import simple_shape\n",
    "from vis.utils import io\n",
    "\n",
    "pfs = {'dtlz2': ['3d', '4d', '8d'], \\\n",
    "       'dtlz2-nbi': ['3d', '4d', '8d'], \\\n",
    "       'debmdk': ['3d', '4d', '8d'], \\\n",
    "       'debmdk-nbi': ['3d', '4d', '8d'], \\\n",
    "       'debmdk-all': ['3d', '4d', '8d'], \\\n",
    "       'debmdk-all-nbi': ['3d', '4d', '8d'], \\\n",
    "       'dtlz8': ['3d', '4d', '6d', '8d'], \\\n",
    "       'dtlz8-nbi': ['3d', '4d', '6d', '8d'], \\\n",
    "       'c2dtlz2': ['3d', '4d', '5d', '8d'], \\\n",
    "       'c2dtlz2-nbi': ['3d', '4d', '5d', '8d'], \\\n",
    "       'cdebmdk': ['3d', '4d', '8d'], \\\n",
    "       'cdebmdk-nbi': ['3d', '4d', '8d'], \\\n",
    "       'c0dtlz2': ['3d', '4d', '8d'], \\\n",
    "       'c0dtlz2-nbi': ['3d', '4d', '8d'], \\\n",
    "       'crash-nbi': ['3d'], 'crash-c1-nbi': ['3d'], 'crash-c2-nbi': ['3d'], \\\n",
    "       'gaa': ['10d'], \\\n",
    "       'gaa-nbi': ['10d']}\n",
    "\n",
    "for pf in list(pfs.keys())[17:]:\n",
    "    for dim in pfs[pf]:\n",
    "        fullpathf = \"../data/{0:s}/{1:s}/dataf.csv\".format(pf, dim)\n",
    "        if os.path.exists(fullpathf):\n",
    "            path, filenamef = os.path.split(fullpathf)\n",
    "            dirs = path.split('/')\n",
    "            frontname = dirs[-2]\n",
    "\n",
    "            F = np.loadtxt(fullpathf, delimiter=',')\n",
    "            print(fullpathf, F.shape, dirs, frontname)\n",
    "            \n",
    "            # test simple_shape.depth_contour function\n",
    "            # it looks like these PFs are better displayed if project_collapse=False\n",
    "            if pf in ['dtlz8', 'dtlz8-nbi', 'crash-nbi', 'crash-c1-nbi', 'crash-c2-nbi']:\n",
    "                L = simple_shape.depth_contours(F, project_collapse=False)\n",
    "            elif pf in ['gaa', 'gaa-nbi']:\n",
    "                L = simple_shape.depth_contours(F, verbose=True)\n",
    "            else:\n",
    "                L = simple_shape.depth_contours(F)\n",
    "            # save the layers\n",
    "            io.savetxt(os.path.join(path, \"depth-cont-cvhull.csv\"), L, fmt='{:d}', delimiter=',')\n",
    "            \n",
    "            # We are not using this since it's exrtemely slow and also doesn't give\n",
    "            # layers if all the points are on a fully convex surface.\n",
    "            # print(\"Generating depth-contours (project_collapse=False) for \" + frontname)\n",
    "            # # test ss.depth_contour function without projection and collapse\n",
    "            # L = ss.depth_contours(F, project_collapse = False)\n",
    "            # save the layers\n",
    "            # io.savetxt(os.path.join(path, \"depth-cont-cvhull.csv\"), L, fmt = '{:d}', delimiter = ',')"
   ]
  },
  {
   "cell_type": "markdown",
   "metadata": {},
   "source": [
    "### Plot and verify"
   ]
  },
  {
   "cell_type": "code",
   "execution_count": null,
   "metadata": {
    "scrolled": false
   },
   "outputs": [],
   "source": [
    "%matplotlib inline\n",
    "\n",
    "sys.path.append('../')\n",
    "from vis.utils import io\n",
    "\n",
    "for pf in list(pfs.keys()):\n",
    "    for dim in pfs[pf]:\n",
    "        fullpathf = \"../data/{0:s}/{1:s}/dataf.csv\".format(pf, dim)\n",
    "        if os.path.exists(fullpathf):\n",
    "            path, filenamef = os.path.split(fullpathf)\n",
    "            dirs = path.split('/')\n",
    "            frontname = dirs[-2]\n",
    "            \n",
    "            F = np.loadtxt(fullpathf, delimiter = ',')\n",
    "            print(fullpathf, F.shape, dirs, frontname)\n",
    "            \n",
    "            layerpathf = os.path.join(path, \"depth-cont-cvhull.csv\")\n",
    "            if os.path.exists(layerpathf):\n",
    "                L = io.loadtxt(layerpathf, dtype=int, delimiter=',')\n",
    "                if F.shape[1] == 2:\n",
    "                    fig = plt.figure()\n",
    "                    ax = fig.gca()\n",
    "                    for l in L:\n",
    "                        ax.scatter(F[l.astype(int),0], F[l.astype(int),1], s=1)\n",
    "                    plt.show()\n",
    "                else:\n",
    "                    fig = plt.figure()\n",
    "                    ax = Axes3D(fig)\n",
    "                    for l in L:\n",
    "                        ax.scatter(F[l.astype(int),0], F[l.astype(int),1], F[l.astype(int),2], s=1)\n",
    "                    plt.show()"
   ]
  },
  {
   "cell_type": "code",
   "execution_count": null,
   "metadata": {},
   "outputs": [],
   "source": []
  }
 ],
 "metadata": {
  "kernelspec": {
   "display_name": "Python 3",
   "language": "python",
   "name": "python3"
  },
  "language_info": {
   "codemirror_mode": {
    "name": "ipython",
    "version": 3
   },
   "file_extension": ".py",
   "mimetype": "text/x-python",
   "name": "python",
   "nbconvert_exporter": "python",
   "pygments_lexer": "ipython3",
   "version": "3.7.5"
  }
 },
 "nbformat": 4,
 "nbformat_minor": 4
}
